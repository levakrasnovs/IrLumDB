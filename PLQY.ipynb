{
 "cells": [
  {
   "cell_type": "code",
   "execution_count": 2,
   "id": "703f5e2e-0dc9-4495-9d89-22123f85d5a9",
   "metadata": {},
   "outputs": [],
   "source": [
    "import numpy as np \n",
    "import pandas as pd\n",
    "import scipy.stats\n",
    "from tqdm import tqdm_notebook\n",
    "\n",
    "from sklearn.model_selection import KFold, train_test_split\n",
    "from sklearn.metrics import mean_absolute_error, mean_squared_error, r2_score\n",
    "from sklearn.svm import SVR\n",
    "from sklearn.neighbors import KNeighborsRegressor\n",
    "from lightgbm import LGBMRegressor\n",
    "from catboost import CatBoostRegressor\n",
    "from xgboost import XGBRegressor\n",
    "\n",
    "import optuna\n",
    "from rdkit import Chem\n",
    "from molfeat.calc import FPCalculator\n",
    "\n",
    "def canonize_smiles(smiles):\n",
    "    return Chem.MolToSmiles(Chem.MolFromSmiles(smiles))\n",
    "    \n",
    "import warnings\n",
    "warnings.filterwarnings(\"ignore\")"
   ]
  },
  {
   "cell_type": "code",
   "execution_count": 3,
   "id": "c645a772-c551-42bb-b54b-de514115cca2",
   "metadata": {},
   "outputs": [],
   "source": [
    "df = pd.read_csv('IrLumDB.csv')\n",
    "test = pd.read_csv('Synthesized_complexes.csv')"
   ]
  },
  {
   "cell_type": "code",
   "execution_count": 4,
   "id": "56687645-b194-4c95-b29a-4944b4dc073b",
   "metadata": {},
   "outputs": [],
   "source": [
    "df = df[~df['L1'].apply(lambda x: 'si' in x.lower())]\n",
    "df = df[~df['L3'].apply(lambda x: 'si' in x.lower())]\n",
    "df = df[~df['L1'].apply(lambda x: 'b' in x.lower())]\n",
    "df = df[~df['L3'].apply(lambda x: 'b' in x.lower())]\n",
    "df = df[df['L3'].apply(lambda x: len(x) > 5)]\n",
    "\n",
    "df['L1_mol'] = df['L1'].apply(Chem.MolFromSmiles)\n",
    "df['L2_mol'] = df['L2'].apply(Chem.MolFromSmiles)\n",
    "df['L3_mol'] = df['L3'].apply(Chem.MolFromSmiles)\n",
    "test['L1_mol'] = test['L1'].apply(Chem.MolFromSmiles)\n",
    "test['L2_mol'] = test['L2'].apply(Chem.MolFromSmiles)\n",
    "test['L3_mol'] = test['L3'].apply(Chem.MolFromSmiles)\n",
    "\n",
    "df_ch2cl2 = df[df['Solvent'] == 'CH2Cl2']\n",
    "df_ch2cl2.drop_duplicates(subset=['L1', 'L2', 'L3'], inplace=True)\n",
    "df_ch2cl2.reset_index(drop=True, inplace=True)"
   ]
  },
  {
   "cell_type": "code",
   "execution_count": 9,
   "id": "3625aa64-6bb3-4d58-9dc9-afcb9f79ef28",
   "metadata": {},
   "outputs": [],
   "source": [
    "def get_finger(fingerprints):\n",
    "    \"\"\"\n",
    "    This function creates fingerprints from SMILES ligands. \n",
    "    The list of available fingerprints can be viewed: FPCalculator.available_fingerprints()\n",
    "    \"\"\"\n",
    "    for f in fingerprints:\n",
    "        calc = FPCalculator(f)\n",
    "        df_ch2cl2[f'L1_{f}'] = df_ch2cl2['L1_mol'].apply(calc)\n",
    "        df_ch2cl2[f'L2_{f}'] = df_ch2cl2['L2_mol'].apply(calc)\n",
    "        df_ch2cl2[f'L3_{f}'] = df_ch2cl2['L3_mol'].apply(calc)\n",
    "        df_ch2cl2[f'{f}'] = np.sum([df_ch2cl2[f'L1_{f}'], df_ch2cl2[f'L2_{f}'], df_ch2cl2[f'L3_{f}']], axis=0)\n",
    "        test[f'L1_{f}'] = test['L1_mol'].apply(calc)\n",
    "        test[f'L2_{f}'] = test['L2_mol'].apply(calc)\n",
    "        test[f'L3_{f}'] = test['L3_mol'].apply(calc)\n",
    "        test[f'{f}'] = np.sum([test[f'L1_{f}'], test[f'L2_{f}'], test[f'L3_{f}']], axis=0)\n",
    "\n",
    "    df_qy = df_ch2cl2[~df_ch2cl2['PLQY'].isna()]\n",
    "    df_qy = df_qy[df_qy['PLQY_in_train'] != 0]\n",
    "    X, y = df_qy[fingerprints].to_numpy(), df_qy['PLQY'].to_numpy()\n",
    "    X = np.array([np.hstack(i) for i in X])\n",
    "    df_result = pd.DataFrame()\n",
    "    for d in X:\n",
    "        df_result = pd.concat([df_result, pd.DataFrame(d).T])\n",
    "    X = df_result.to_numpy()\n",
    "    print(X.shape)\n",
    "    \n",
    "    return X, y"
   ]
  },
  {
   "cell_type": "code",
   "execution_count": 11,
   "id": "96288965-f495-400f-81ef-694af1eb9c98",
   "metadata": {},
   "outputs": [
    {
     "name": "stdout",
     "output_type": "stream",
     "text": [
      "(724, 2048)\n"
     ]
    }
   ],
   "source": [
    "X, y = get_finger(['ecfp'])"
   ]
  },
  {
   "cell_type": "code",
   "execution_count": 12,
   "id": "21908054-e26c-4284-9bfe-d01b372e6224",
   "metadata": {},
   "outputs": [],
   "source": [
    "X_train, X_val, y_train, y_val = train_test_split(X, y, test_size=0.1, random_state=42, shuffle=True)"
   ]
  },
  {
   "cell_type": "code",
   "execution_count": 13,
   "id": "0e95e7b1-17d5-436d-aa19-0908ddcb645d",
   "metadata": {},
   "outputs": [],
   "source": [
    "kf = KFold(n_splits=10, shuffle=True, random_state=42)"
   ]
  },
  {
   "cell_type": "markdown",
   "id": "6ea56c51-249b-4cf3-8af6-996c83f1b9a6",
   "metadata": {},
   "source": [
    "# Optuna"
   ]
  },
  {
   "cell_type": "code",
   "execution_count": null,
   "id": "1f44871d-5e2f-4df7-bd2f-3311b58c27f8",
   "metadata": {},
   "outputs": [],
   "source": [
    "def objective_catboost(trial):\n",
    "    params = {\n",
    "        \"iterations\": 1000,\n",
    "        \"learning_rate\": trial.suggest_float(\"learning_rate\", 2*1e-3, 0.2, log=True),\n",
    "        \"depth\": trial.suggest_int(\"depth\", 1, 10),\n",
    "        \"subsample\": trial.suggest_float(\"subsample\", 0.05, 1.0),\n",
    "        \"colsample_bylevel\": trial.suggest_float(\"colsample_bylevel\", 0.05, 1.0),\n",
    "        \"min_data_in_leaf\": trial.suggest_int(\"min_data_in_leaf\", 1, 100),\n",
    "    }\n",
    "\n",
    "    model = CatBoostRegressor(**params, silent=True, random_state=42)\n",
    "    model.fit(X_train, y_train)\n",
    "    predictions = model.predict(X_val)\n",
    "    rmse = mean_squared_error(y_val, predictions, squared=False)\n",
    "    return rmse"
   ]
  },
  {
   "cell_type": "code",
   "execution_count": null,
   "id": "89a011c8-eb9b-4d0a-a641-92fb42a605fe",
   "metadata": {},
   "outputs": [],
   "source": [
    "def objective_lgbm(trial):\n",
    "    params = {\n",
    "        \"objective\": \"regression\",\n",
    "        \"metric\": \"rmse\",\n",
    "        \"n_estimators\": 1000,\n",
    "        \"verbosity\": -1,\n",
    "        \"bagging_freq\": 1,\n",
    "        \"learning_rate\": trial.suggest_float(\"learning_rate\", 2*1e-3, 0.2, log=True),\n",
    "        \"num_leaves\": trial.suggest_int(\"num_leaves\", 2, 2**10),\n",
    "        \"subsample\": trial.suggest_float(\"subsample\", 0.05, 1.0),\n",
    "        \"colsample_bytree\": trial.suggest_float(\"colsample_bytree\", 0.05, 1.0),\n",
    "        \"min_data_in_leaf\": trial.suggest_int(\"min_data_in_leaf\", 1, 100),\n",
    "    }\n",
    "    model = LGBMRegressor(**params, silent=True, random_state=42)\n",
    "    model.fit(X_train, y_train)\n",
    "    predictions = model.predict(X_val)\n",
    "    rmse = mean_squared_error(y_val, predictions, squared=False)\n",
    "    return rmse"
   ]
  },
  {
   "cell_type": "code",
   "execution_count": null,
   "id": "d4560a3d-78ed-4c21-8e8d-5d6bbeaa5e0c",
   "metadata": {},
   "outputs": [],
   "source": [
    "def objective_xgboost(trial):\n",
    "    params = {\n",
    "        \"objective\": \"reg:squarederror\",\n",
    "        \"n_estimators\": 1000,\n",
    "        \"verbosity\": 0,\n",
    "        \"learning_rate\": trial.suggest_float(\"learning_rate\", 1e-3, 0.1, log=True),\n",
    "        \"max_depth\": trial.suggest_int(\"max_depth\", 1, 10),\n",
    "        \"subsample\": trial.suggest_float(\"subsample\", 0.05, 1.0),\n",
    "        \"colsample_bytree\": trial.suggest_float(\"colsample_bytree\", 0.05, 1.0),\n",
    "        \"min_child_weight\": trial.suggest_int(\"min_child_weight\", 1, 20),\n",
    "    }\n",
    "\n",
    "    model = XGBRegressor(**params)\n",
    "    model.fit(X_train, y_train, verbose=False)\n",
    "    predictions = model.predict(X_val)\n",
    "    rmse = mean_squared_error(y_val, predictions, squared=False)\n",
    "    return rmse"
   ]
  },
  {
   "cell_type": "code",
   "execution_count": null,
   "id": "b9f2a2ff-31bb-4bf3-bea0-86345514c999",
   "metadata": {},
   "outputs": [],
   "source": [
    "def objective_svr(trial):\n",
    "    params = {\n",
    "        \"C\": trial.suggest_float('C', 1, 1000, log=True),\n",
    "        \"epsilon\": trial.suggest_float('epsilon', 1e-3, 1, log=True),\n",
    "    }\n",
    "\n",
    "    model = SVR(**params)\n",
    "    model.fit(X_train, y_train)\n",
    "    predictions = model.predict(X_val)\n",
    "    rmse = mean_squared_error(y_val, predictions, squared=False)\n",
    "    return rmse"
   ]
  },
  {
   "cell_type": "code",
   "execution_count": null,
   "id": "dc06dfd5-65c0-41c5-a28f-671d1bb0b504",
   "metadata": {},
   "outputs": [],
   "source": [
    "def objective_knn(trial):\n",
    "    params = {\n",
    "        \"n_neighbors\": trial.suggest_int(\"n_neighbors\", 1, 100, log=True),\n",
    "    }\n",
    "\n",
    "    model = KNeighborsRegressor(**params, random_state=42)\n",
    "    model.fit(X_train, y_train)\n",
    "    predictions = model.predict(X_val)\n",
    "    rmse = mean_squared_error(y_val, predictions, squared=False)\n",
    "    return rmse"
   ]
  },
  {
   "cell_type": "markdown",
   "id": "63077063-4ba0-4263-b710-19d68022ad24",
   "metadata": {},
   "source": [
    "# Functions for training and validating models"
   ]
  },
  {
   "cell_type": "code",
   "execution_count": 22,
   "id": "0cc8d852-5ff1-44b9-ad90-fe813a93670f",
   "metadata": {},
   "outputs": [],
   "source": [
    "def mean_confidence_interval(data, metric, confidence=0.95):\n",
    "    a = 1.0 * np.array(data)\n",
    "    n = len(a)\n",
    "    m, se = np.mean(a), scipy.stats.sem(a)\n",
    "    h = se * scipy.stats.t.ppf((1 + confidence) / 2., n-1)\n",
    "    m = round(m ,3)\n",
    "    h = round(h, 3)\n",
    "    print(f'{metric}: {m} ± {h}')"
   ]
  },
  {
   "cell_type": "code",
   "execution_count": 15,
   "id": "468c17f4-2315-4ce3-ad9f-d68dacceaf3b",
   "metadata": {},
   "outputs": [],
   "source": [
    "def cv10(model):\n",
    "    mae_result = []\n",
    "    rmse_result = []\n",
    "    r2_result = []\n",
    "    for train, val in tqdm_notebook(kf.split(X, y)):\n",
    "        model.fit(X[train], y[train])\n",
    "        y_pred_val = model.predict(X[val])\n",
    "        mae_result.append(mean_absolute_error(y[val], y_pred_val))\n",
    "        rmse_result.append(mean_squared_error(y[val], y_pred_val, squared=False))\n",
    "        r2_result.append(r2_score(y[val], y_pred_val))\n",
    "    mean_confidence_interval(mae_result, 'MAE')\n",
    "    mean_confidence_interval(rmse_result, 'RMSE')\n",
    "    mean_confidence_interval(r2_result, 'R2')"
   ]
  },
  {
   "cell_type": "markdown",
   "id": "5c565e8d-0a43-41c7-9c7c-58d94f5e633a",
   "metadata": {},
   "source": [
    "# Find best params"
   ]
  },
  {
   "cell_type": "code",
   "execution_count": null,
   "id": "77b3b9fa-991d-476e-b328-438dd80744dd",
   "metadata": {},
   "outputs": [],
   "source": [
    "#сatboost\n",
    "сatboost_study = optuna.create_study(direction='minimize')\n",
    "сatboost_study.optimize(objective_catboost, n_trials=30)\n",
    "catboost_study.best_params  "
   ]
  },
  {
   "cell_type": "code",
   "execution_count": 17,
   "id": "806a5a05-f946-4710-88af-353f006e3b39",
   "metadata": {},
   "outputs": [],
   "source": [
    "cat_bp = {'learning_rate': 0.04153336533280499,\n",
    " 'depth': 10,\n",
    " 'subsample': 0.9132677097127234,\n",
    " 'colsample_bylevel': 0.540038955308394,\n",
    " 'min_data_in_leaf': 61,\n",
    "'n_estimators':1000}"
   ]
  },
  {
   "cell_type": "code",
   "execution_count": 18,
   "id": "7c08f14b-7712-4220-ae19-45bf1fe2c273",
   "metadata": {},
   "outputs": [],
   "source": [
    "model_cat = CatBoostRegressor(**cat_bp, random_state=42, silent=True)"
   ]
  },
  {
   "cell_type": "code",
   "execution_count": 23,
   "id": "af024e49-1089-4e64-b230-808fa495b67c",
   "metadata": {},
   "outputs": [
    {
     "data": {
      "application/vnd.jupyter.widget-view+json": {
       "model_id": "f21bb4fe6b484a76abb64432b3da04ef",
       "version_major": 2,
       "version_minor": 0
      },
      "text/plain": [
       "0it [00:00, ?it/s]"
      ]
     },
     "metadata": {},
     "output_type": "display_data"
    },
    {
     "name": "stdout",
     "output_type": "stream",
     "text": [
      "MAE: 0.129 ± 0.009\n",
      "RMSE: 0.18 ± 0.015\n",
      "R2: 0.583 ± 0.043\n"
     ]
    }
   ],
   "source": [
    "cv10(model_cat)"
   ]
  },
  {
   "cell_type": "code",
   "execution_count": null,
   "id": "d315ea83-e839-43ec-8907-16f8ebb2ae49",
   "metadata": {},
   "outputs": [],
   "source": [
    "#xgboost\n",
    "xgboost_study = optuna.create_study(direction='minimize')\n",
    "xgboost_study.optimize(objective_xgboost, n_trials=30)\n",
    "xgboost_study.best_params  "
   ]
  },
  {
   "cell_type": "code",
   "execution_count": 24,
   "id": "5f5ead48-720a-4188-8bff-16a9d33535fc",
   "metadata": {},
   "outputs": [],
   "source": [
    "xgb_bp = {'learning_rate': 0.06238679289783574,\n",
    " 'max_depth': 7,\n",
    " 'subsample': 0.9982371412074009,\n",
    " 'colsample_bytree': 0.1637075927345035,\n",
    " 'min_child_weight': 1,\n",
    " 'objective': 'reg:squarederror',\n",
    " 'n_estimators': 1000,\n",
    " 'verbosity': 0}"
   ]
  },
  {
   "cell_type": "code",
   "execution_count": 25,
   "id": "08b7cffe-d08d-4fab-b5a2-b50f0137fcd9",
   "metadata": {},
   "outputs": [],
   "source": [
    "model_xgb = XGBRegressor(**xgb_bp, random_state=42, silent=True)"
   ]
  },
  {
   "cell_type": "code",
   "execution_count": 26,
   "id": "e5319ed1-048f-4e5b-8565-8a339384956e",
   "metadata": {},
   "outputs": [
    {
     "data": {
      "application/vnd.jupyter.widget-view+json": {
       "model_id": "75f139356b1241728fbc57fd4e4951c8",
       "version_major": 2,
       "version_minor": 0
      },
      "text/plain": [
       "0it [00:00, ?it/s]"
      ]
     },
     "metadata": {},
     "output_type": "display_data"
    },
    {
     "name": "stdout",
     "output_type": "stream",
     "text": [
      "MAE: 0.129 ± 0.01\n",
      "RMSE: 0.185 ± 0.013\n",
      "R2: 0.561 ± 0.035\n"
     ]
    }
   ],
   "source": [
    "cv10(model_xgb)"
   ]
  },
  {
   "cell_type": "code",
   "execution_count": null,
   "id": "bd9e5bf9-14a5-4ecf-af4e-60b9dc2e3c96",
   "metadata": {},
   "outputs": [],
   "source": [
    "#lightgbm\n",
    "lightgbm_study = optuna.create_study(direction='minimize')\n",
    "lightgbm_study.optimize(objective_lgbm, n_trials=30)\n",
    "lightgbm_study.best_params"
   ]
  },
  {
   "cell_type": "code",
   "execution_count": 27,
   "id": "aaab6c69-1474-442e-bba7-577eaa76a124",
   "metadata": {},
   "outputs": [],
   "source": [
    "lgbm_bp = {'learning_rate': 0.0312578769878087,\n",
    " 'num_leaves': 367,\n",
    " 'subsample': 0.5808481639196008,\n",
    " 'colsample_bytree': 0.28534206471458423,\n",
    " 'min_data_in_leaf': 1,\n",
    "'objective': 'regression',\n",
    " 'metric': 'rmse',\n",
    " 'n_estimators': 100,\n",
    " 'verbosity': -1,\n",
    " 'bagging_freq': 1}"
   ]
  },
  {
   "cell_type": "code",
   "execution_count": 28,
   "id": "9e6b89d7-7cf0-4a13-9852-dad42349d7f5",
   "metadata": {},
   "outputs": [],
   "source": [
    "model_lgbm = LGBMRegressor(**lgbm_bp, random_state=42)"
   ]
  },
  {
   "cell_type": "code",
   "execution_count": 29,
   "id": "a9dd1326-b993-4f6c-8c91-53bdb1839bf8",
   "metadata": {},
   "outputs": [
    {
     "data": {
      "application/vnd.jupyter.widget-view+json": {
       "model_id": "001a976f23b04f21af627b261144d17c",
       "version_major": 2,
       "version_minor": 0
      },
      "text/plain": [
       "0it [00:00, ?it/s]"
      ]
     },
     "metadata": {},
     "output_type": "display_data"
    },
    {
     "name": "stdout",
     "output_type": "stream",
     "text": [
      "[LightGBM] [Warning] min_data_in_leaf is set=1, min_child_samples=20 will be ignored. Current value: min_data_in_leaf=1\n",
      "[LightGBM] [Warning] bagging_freq is set=1, subsample_freq=0 will be ignored. Current value: bagging_freq=1\n",
      "[LightGBM] [Warning] min_data_in_leaf is set=1, min_child_samples=20 will be ignored. Current value: min_data_in_leaf=1\n",
      "[LightGBM] [Warning] bagging_freq is set=1, subsample_freq=0 will be ignored. Current value: bagging_freq=1\n",
      "[LightGBM] [Warning] min_data_in_leaf is set=1, min_child_samples=20 will be ignored. Current value: min_data_in_leaf=1\n",
      "[LightGBM] [Warning] bagging_freq is set=1, subsample_freq=0 will be ignored. Current value: bagging_freq=1\n",
      "[LightGBM] [Warning] min_data_in_leaf is set=1, min_child_samples=20 will be ignored. Current value: min_data_in_leaf=1\n",
      "[LightGBM] [Warning] bagging_freq is set=1, subsample_freq=0 will be ignored. Current value: bagging_freq=1\n",
      "[LightGBM] [Warning] min_data_in_leaf is set=1, min_child_samples=20 will be ignored. Current value: min_data_in_leaf=1\n",
      "[LightGBM] [Warning] bagging_freq is set=1, subsample_freq=0 will be ignored. Current value: bagging_freq=1\n",
      "[LightGBM] [Warning] min_data_in_leaf is set=1, min_child_samples=20 will be ignored. Current value: min_data_in_leaf=1\n",
      "[LightGBM] [Warning] bagging_freq is set=1, subsample_freq=0 will be ignored. Current value: bagging_freq=1\n",
      "[LightGBM] [Warning] min_data_in_leaf is set=1, min_child_samples=20 will be ignored. Current value: min_data_in_leaf=1\n",
      "[LightGBM] [Warning] bagging_freq is set=1, subsample_freq=0 will be ignored. Current value: bagging_freq=1\n",
      "[LightGBM] [Warning] min_data_in_leaf is set=1, min_child_samples=20 will be ignored. Current value: min_data_in_leaf=1\n",
      "[LightGBM] [Warning] bagging_freq is set=1, subsample_freq=0 will be ignored. Current value: bagging_freq=1\n",
      "[LightGBM] [Warning] min_data_in_leaf is set=1, min_child_samples=20 will be ignored. Current value: min_data_in_leaf=1\n",
      "[LightGBM] [Warning] bagging_freq is set=1, subsample_freq=0 will be ignored. Current value: bagging_freq=1\n",
      "[LightGBM] [Warning] min_data_in_leaf is set=1, min_child_samples=20 will be ignored. Current value: min_data_in_leaf=1\n",
      "[LightGBM] [Warning] bagging_freq is set=1, subsample_freq=0 will be ignored. Current value: bagging_freq=1\n",
      "MAE: 0.133 ± 0.009\n",
      "RMSE: 0.183 ± 0.013\n",
      "R2: 0.571 ± 0.049\n"
     ]
    }
   ],
   "source": [
    "cv10(model_lgbm)"
   ]
  },
  {
   "cell_type": "code",
   "execution_count": null,
   "id": "a98596af-42b0-41fe-ac18-f04c2e8cf850",
   "metadata": {},
   "outputs": [],
   "source": [
    "#svr\n",
    "svr_study = optuna.create_study(direction='minimize')\n",
    "svr_study.optimize(objective_svr, n_trials=30)\n",
    "svr_study.best_params "
   ]
  },
  {
   "cell_type": "code",
   "execution_count": 30,
   "id": "0fb54a33-598b-4348-b10a-0c2b5a461a99",
   "metadata": {},
   "outputs": [],
   "source": [
    "svr_bp = {'C': 1.1803186568111252, 'epsilon': 0.004389660374508496}"
   ]
  },
  {
   "cell_type": "code",
   "execution_count": 31,
   "id": "4f739012-215f-430f-a69d-29da90f9a8fa",
   "metadata": {},
   "outputs": [],
   "source": [
    "model_svr = SVR(**svr_bp)"
   ]
  },
  {
   "cell_type": "code",
   "execution_count": 32,
   "id": "609658bc-b1f9-4c2c-817b-40444e715d60",
   "metadata": {},
   "outputs": [
    {
     "data": {
      "application/vnd.jupyter.widget-view+json": {
       "model_id": "1c00c20af78f405d80ab785e87293750",
       "version_major": 2,
       "version_minor": 0
      },
      "text/plain": [
       "0it [00:00, ?it/s]"
      ]
     },
     "metadata": {},
     "output_type": "display_data"
    },
    {
     "name": "stdout",
     "output_type": "stream",
     "text": [
      "Intel MKL WARNING: Support of Intel(R) Streaming SIMD Extensions 4.2 (Intel(R) SSE4.2) enabled only processors has been deprecated. Intel oneAPI Math Kernel Library 2025.0 will require Intel(R) Advanced Vector Extensions (Intel(R) AVX) instructions.\n",
      "MAE: 0.128 ± 0.01\n",
      "RMSE: 0.181 ± 0.015\n",
      "R2: 0.577 ± 0.074\n"
     ]
    }
   ],
   "source": [
    "cv10(model_svr)"
   ]
  },
  {
   "cell_type": "code",
   "execution_count": null,
   "id": "11fe1086-1bb8-42b7-aa47-df8ae335106f",
   "metadata": {},
   "outputs": [],
   "source": [
    "#knn\n",
    "knn_study = optuna.create_study(direction='minimize')\n",
    "knn_study.optimize(objective_knn, n_trials=30)\n",
    "knn_study.best_params "
   ]
  },
  {
   "cell_type": "code",
   "execution_count": 34,
   "id": "54e6b11c-4c4e-4d66-b0ec-396c25dd0e5b",
   "metadata": {},
   "outputs": [],
   "source": [
    "knn_bp = {'n_neighbors': 2}"
   ]
  },
  {
   "cell_type": "code",
   "execution_count": 35,
   "id": "046ddfc5-dbbc-43e1-8ab4-fbbf87b53507",
   "metadata": {},
   "outputs": [],
   "source": [
    "model_knn = KNeighborsRegressor(**knn_bp)"
   ]
  },
  {
   "cell_type": "code",
   "execution_count": 36,
   "id": "d9974905-d18d-45d0-90b3-be199ab2c23b",
   "metadata": {},
   "outputs": [
    {
     "data": {
      "application/vnd.jupyter.widget-view+json": {
       "model_id": "ab60de8b691644cc89df4722e062aafe",
       "version_major": 2,
       "version_minor": 0
      },
      "text/plain": [
       "0it [00:00, ?it/s]"
      ]
     },
     "metadata": {},
     "output_type": "display_data"
    },
    {
     "name": "stdout",
     "output_type": "stream",
     "text": [
      "MAE: 0.142 ± 0.009\n",
      "RMSE: 0.207 ± 0.014\n",
      "R2: 0.441 ± 0.099\n"
     ]
    }
   ],
   "source": [
    "cv10(model_knn)"
   ]
  },
  {
   "cell_type": "code",
   "execution_count": null,
   "id": "d8b08cbc-d4f6-4bd5-9889-639e2fa73f75",
   "metadata": {},
   "outputs": [],
   "source": []
  }
 ],
 "metadata": {
  "kernelspec": {
   "display_name": "Python 3 (ipykernel)",
   "language": "python",
   "name": "python3"
  },
  "language_info": {
   "codemirror_mode": {
    "name": "ipython",
    "version": 3
   },
   "file_extension": ".py",
   "mimetype": "text/x-python",
   "name": "python",
   "nbconvert_exporter": "python",
   "pygments_lexer": "ipython3",
   "version": "3.9.19"
  }
 },
 "nbformat": 4,
 "nbformat_minor": 5
}
