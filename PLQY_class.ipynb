{
 "cells": [
  {
   "cell_type": "code",
   "execution_count": 16,
   "id": "39984073-22dd-4da9-9761-e9859a6d4e68",
   "metadata": {},
   "outputs": [],
   "source": [
    "import numpy as np \n",
    "import pandas as pd\n",
    "import scipy.stats\n",
    "from tqdm import tqdm_notebook\n",
    "\n",
    "from sklearn.model_selection import KFold, train_test_split\n",
    "from sklearn.metrics import mean_absolute_error, mean_squared_error, r2_score, accuracy_score, confusion_matrix\n",
    "from sklearn.svm import SVC\n",
    "from sklearn.neighbors import KNeighborsClassifier\n",
    "from lightgbm import LGBMClassifier\n",
    "from catboost import CatBoostClassifier\n",
    "from xgboost import XGBClassifier\n",
    "\n",
    "import optuna\n",
    "from rdkit import Chem\n",
    "from molfeat.calc import FPCalculator\n",
    "\n",
    "def canonize_smiles(smiles):\n",
    "    return Chem.MolToSmiles(Chem.MolFromSmiles(smiles))\n",
    "    \n",
    "import warnings\n",
    "warnings.filterwarnings(\"ignore\")"
   ]
  },
  {
   "cell_type": "code",
   "execution_count": 3,
   "id": "b136ff92-0a32-468c-81a2-31e525fb6343",
   "metadata": {},
   "outputs": [],
   "source": [
    "df = pd.read_csv('IrLumDB.csv')\n",
    "test = pd.read_csv('Synthesized_complexes.csv')"
   ]
  },
  {
   "cell_type": "code",
   "execution_count": 4,
   "id": "5f6d9856-8424-47ec-85ce-bea906fbb124",
   "metadata": {},
   "outputs": [],
   "source": [
    "df = df[~df['L1'].apply(lambda x: 'si' in x.lower())]\n",
    "df = df[~df['L3'].apply(lambda x: 'si' in x.lower())]\n",
    "df = df[~df['L1'].apply(lambda x: 'b' in x.lower())]\n",
    "df = df[~df['L3'].apply(lambda x: 'b' in x.lower())]\n",
    "df = df[df['L3'].apply(lambda x: len(x) > 5)]\n",
    "\n",
    "df['L1_mol'] = df['L1'].apply(Chem.MolFromSmiles)\n",
    "df['L2_mol'] = df['L2'].apply(Chem.MolFromSmiles)\n",
    "df['L3_mol'] = df['L3'].apply(Chem.MolFromSmiles)\n",
    "test['L1_mol'] = test['L1'].apply(Chem.MolFromSmiles)\n",
    "test['L2_mol'] = test['L2'].apply(Chem.MolFromSmiles)\n",
    "test['L3_mol'] = test['L3'].apply(Chem.MolFromSmiles)\n",
    "\n",
    "df_ch2cl2 = df[df['Solvent'] == 'CH2Cl2']\n",
    "df_ch2cl2.drop_duplicates(subset=['L1', 'L2', 'L3'], inplace=True)\n",
    "df_ch2cl2.reset_index(drop=True, inplace=True)"
   ]
  },
  {
   "cell_type": "code",
   "execution_count": 5,
   "id": "927b8a1b-7b3c-4ac7-bc21-ebe73f8c225b",
   "metadata": {},
   "outputs": [],
   "source": [
    "def get_finger(fingerprints):\n",
    "    \"\"\"\n",
    "    This function creates fingerprints from SMILES ligands. \n",
    "    The list of available fingerprints can be viewed: FPCalculator.available_fingerprints()\n",
    "    \"\"\"\n",
    "    for f in fingerprints:\n",
    "        calc = FPCalculator(f)\n",
    "        df_ch2cl2[f'L1_{f}'] = df_ch2cl2['L1_mol'].apply(calc)\n",
    "        df_ch2cl2[f'L2_{f}'] = df_ch2cl2['L2_mol'].apply(calc)\n",
    "        df_ch2cl2[f'L3_{f}'] = df_ch2cl2['L3_mol'].apply(calc)\n",
    "        df_ch2cl2[f'{f}'] = np.sum([df_ch2cl2[f'L1_{f}'], df_ch2cl2[f'L2_{f}'], df_ch2cl2[f'L3_{f}']], axis=0)\n",
    "        test[f'L1_{f}'] = test['L1_mol'].apply(calc)\n",
    "        test[f'L2_{f}'] = test['L2_mol'].apply(calc)\n",
    "        test[f'L3_{f}'] = test['L3_mol'].apply(calc)\n",
    "        test[f'{f}'] = np.sum([test[f'L1_{f}'], test[f'L2_{f}'], test[f'L3_{f}']], axis=0)\n",
    "\n",
    "    df_qy = df_ch2cl2[~df_ch2cl2['PLQY'].isna()]\n",
    "    df_qy = df_qy[df_qy['PLQY_in_train'] != 0]\n",
    "    X, y = df_qy[fingerprints].to_numpy(), df_qy['PLQY'].to_numpy()\n",
    "    X = np.array([np.hstack(i) for i in X])\n",
    "    df_result = pd.DataFrame()\n",
    "    for d in X:\n",
    "        df_result = pd.concat([df_result, pd.DataFrame(d).T])\n",
    "    X = df_result.to_numpy()\n",
    "    print(X.shape)\n",
    "    \n",
    "    return X, y"
   ]
  },
  {
   "cell_type": "code",
   "execution_count": 6,
   "id": "1f7cb9ac-2847-48a9-9cfa-c4028fafb861",
   "metadata": {},
   "outputs": [],
   "source": [
    "def get_plqy_class(plqy):\n",
    "    if plqy <= 0.1:\n",
    "        return 0\n",
    "    elif 0.5 >= plqy > 0.1:\n",
    "        return 1\n",
    "    else:\n",
    "        return 2"
   ]
  },
  {
   "cell_type": "code",
   "execution_count": 8,
   "id": "5a8db5b6-3926-465c-9bd5-bee8feee3ccb",
   "metadata": {},
   "outputs": [
    {
     "name": "stdout",
     "output_type": "stream",
     "text": [
      "(724, 2048)\n"
     ]
    }
   ],
   "source": [
    "X, y = get_finger(['ecfp'])\n",
    "y = np.array([get_plqy_class(i) for i in y])"
   ]
  },
  {
   "cell_type": "code",
   "execution_count": 9,
   "id": "52ebb9f9-3b09-44b6-a744-343bbf8bca22",
   "metadata": {},
   "outputs": [],
   "source": [
    "X_train, X_val, y_train, y_val = train_test_split(X, y, test_size=0.1, random_state=42, shuffle=True)"
   ]
  },
  {
   "cell_type": "code",
   "execution_count": 10,
   "id": "86be2f66-09ee-4847-9b8e-c753b710a156",
   "metadata": {},
   "outputs": [],
   "source": [
    "kf = KFold(n_splits=10, shuffle=True, random_state=42)"
   ]
  },
  {
   "cell_type": "markdown",
   "id": "016e1c7e-ecee-4b2a-8f44-596c4e60f0a5",
   "metadata": {},
   "source": [
    "# Optuna"
   ]
  },
  {
   "cell_type": "code",
   "execution_count": 11,
   "id": "b39fcbb5-a6f4-4fae-b0d6-d373efdf783c",
   "metadata": {},
   "outputs": [],
   "source": [
    "def objective_catboost(trial):\n",
    "    params = {\n",
    "        \"iterations\": 100,\n",
    "        \"learning_rate\": trial.suggest_float(\"learning_rate\", 2*1e-3, 0.2, log=True),\n",
    "        \"depth\": trial.suggest_int(\"depth\", 1, 12),\n",
    "        \"colsample_bylevel\": trial.suggest_float(\"colsample_bylevel\", 0.05, 1.0),\n",
    "    }\n",
    "\n",
    "    model = CatBoostClassifier(**params, silent=True, random_state=42)\n",
    "    model.fit(X_train, y_train)\n",
    "    predictions = model.predict(X_val)\n",
    "    acc = accuracy_score(y_val, predictions)\n",
    "    return acc"
   ]
  },
  {
   "cell_type": "code",
   "execution_count": 12,
   "id": "bdd79a6e-aee8-4a2f-9cf5-54a213698701",
   "metadata": {},
   "outputs": [],
   "source": [
    "def objective_xgboost(trial):\n",
    "    params = {\n",
    "        \"n_estimators\": 100,\n",
    "        'verbosity': 0,\n",
    "        'objective': 'binary:logistic',\n",
    "        'booster': trial.suggest_categorical('booster', ['gbtree', 'gblinear']),\n",
    "        'eta': trial.suggest_float('eta', 1e-8, 1.0, log=True),\n",
    "        'max_depth': trial.suggest_int('max_depth', 1, 10),\n",
    "        'lambda': trial.suggest_float('lambda', 1e-8, 100.0, log=True),\n",
    "        'alpha': trial.suggest_float('alpha', 1e-8, 100.0, log=True),\n",
    "    }\n",
    "\n",
    "    model = XGBClassifier(**params)\n",
    "    model.fit(X_train, y_train, verbose=False)\n",
    "    predictions = model.predict(X_val)\n",
    "    acc = accuracy_score(y_val, predictions)\n",
    "    return acc"
   ]
  },
  {
   "cell_type": "code",
   "execution_count": 13,
   "id": "23fee1c8-910a-494c-828e-f75069c5cee3",
   "metadata": {},
   "outputs": [],
   "source": [
    "def objective_lgbm(trial):\n",
    "    params = {\n",
    "        \"n_estimators\": 100,\n",
    "        \"verbosity\": -1,\n",
    "        \"bagging_freq\": 1,\n",
    "        \"learning_rate\": trial.suggest_float(\"learning_rate\", 2*1e-3, 0.2, log=True),\n",
    "        \"num_leaves\": trial.suggest_int(\"num_leaves\", 2, 2**10),\n",
    "        \"colsample_bytree\": trial.suggest_float(\"colsample_bytree\", 0.05, 1.0),\n",
    "        \"min_data_in_leaf\": trial.suggest_int(\"min_data_in_leaf\", 1, 100),\n",
    "    }\n",
    "    model = LGBMClassifier(**params, silent=True, random_state=42)\n",
    "    model.fit(X_train, y_train)\n",
    "    predictions = model.predict(X_val)\n",
    "    acc = accuracy_score(y_val, predictions)\n",
    "    return acc"
   ]
  },
  {
   "cell_type": "code",
   "execution_count": 14,
   "id": "352d69b8-4270-4054-be1e-51ebbd8a4d4f",
   "metadata": {},
   "outputs": [],
   "source": [
    "def objective_svc(trial):\n",
    "    params = {\n",
    "        \"C\": trial.suggest_float(\"C\", 0.1, 1000, log=True),\n",
    "    }\n",
    "\n",
    "    model = SVC(**params)\n",
    "    model.fit(X_train, y_train)\n",
    "    predictions = model.predict(X_val)\n",
    "    acc = accuracy_score(y_val, predictions)\n",
    "    return acc"
   ]
  },
  {
   "cell_type": "code",
   "execution_count": 15,
   "id": "08a814fb-f4e0-4421-aaa0-a2f01542b030",
   "metadata": {},
   "outputs": [],
   "source": [
    "def objective_knn(trial):\n",
    "    params = {\n",
    "        \"n_neighbors\": trial.suggest_int(\"n_neighbors\", 1, 100, log=True),\n",
    "    }\n",
    "\n",
    "    model = KNeighborsClassifier(**params)\n",
    "    model.fit(X_train, y_train)\n",
    "    predictions = model.predict(X_val)\n",
    "    acc = accuracy_score(y_val, predictions)\n",
    "    return acc"
   ]
  },
  {
   "cell_type": "markdown",
   "id": "75f1a85f-d2bd-4565-b444-a02791aa6dd4",
   "metadata": {},
   "source": [
    "# Functions for training and validating models"
   ]
  },
  {
   "cell_type": "code",
   "execution_count": 17,
   "id": "e65b3102-10a9-4c41-a175-12c122e8b44f",
   "metadata": {},
   "outputs": [],
   "source": [
    "def mean_confidence_interval(data, metric, confidence=0.95):\n",
    "    a = 1.0 * np.array(data)\n",
    "    n = len(a)\n",
    "    m, se = np.mean(a), scipy.stats.sem(a)\n",
    "    h = se * scipy.stats.t.ppf((1 + confidence) / 2., n-1)\n",
    "    m = round(m ,3)\n",
    "    h = round(h, 3)\n",
    "    print(f'{metric}: {m} ± {h}')"
   ]
  },
  {
   "cell_type": "code",
   "execution_count": 18,
   "id": "d481ef67-b9c8-449f-bbac-3a6d567b4aad",
   "metadata": {},
   "outputs": [],
   "source": [
    "def cv10(model):\n",
    "    conf_matrix = np.array([[0, 0, 0],\n",
    "                            [0, 0, 0],\n",
    "                            [0, 0, 0]])\n",
    "    acc_result = []\n",
    "    for train, val in tqdm_notebook(kf.split(X, y)):\n",
    "        model.fit(X[train], y[train])\n",
    "        y_pred_class = model.predict(X[val])\n",
    "        acc_result.append(accuracy_score(y[val], y_pred_class))\n",
    "        conf_matrix += confusion_matrix(y[val], y_pred_class)\n",
    "        \n",
    "    mean_confidence_interval(acc_result, 'Accuracy')\n",
    "    return conf_matrix"
   ]
  },
  {
   "cell_type": "markdown",
   "id": "65f71109-3b33-4172-9ed5-d5c71f8e7727",
   "metadata": {},
   "source": [
    "# Find best params"
   ]
  },
  {
   "cell_type": "code",
   "execution_count": null,
   "id": "d9df4e26-87d3-4eb8-8246-a165b35ae1b5",
   "metadata": {},
   "outputs": [],
   "source": [
    "#сatboost\n",
    "сatboost_study = optuna.create_study(direction='maximize')\n",
    "сatboost_study.optimize(objective_catboost, n_trials=30)\n",
    "catboost_study.best_params  "
   ]
  },
  {
   "cell_type": "code",
   "execution_count": 19,
   "id": "8e2e3434-da5e-4333-9d62-e32f6216a0c2",
   "metadata": {},
   "outputs": [],
   "source": [
    "cat_bp = {'n_estimators': 1000}"
   ]
  },
  {
   "cell_type": "code",
   "execution_count": 20,
   "id": "a7894fcd-e13d-435f-ad6a-2a39223eefc7",
   "metadata": {},
   "outputs": [],
   "source": [
    "model_cat = CatBoostClassifier(**cat_bp, random_state=42, silent=True)"
   ]
  },
  {
   "cell_type": "code",
   "execution_count": 21,
   "id": "d4e5ec8c-2d01-4cbe-b2b6-253c6bfc7e2e",
   "metadata": {},
   "outputs": [
    {
     "data": {
      "application/vnd.jupyter.widget-view+json": {
       "model_id": "d3383875547949cdb7ace17379b1a758",
       "version_major": 2,
       "version_minor": 0
      },
      "text/plain": [
       "0it [00:00, ?it/s]"
      ]
     },
     "metadata": {},
     "output_type": "display_data"
    },
    {
     "name": "stdout",
     "output_type": "stream",
     "text": [
      "Accuracy: 0.724 ± 0.041\n"
     ]
    },
    {
     "data": {
      "text/plain": [
       "array([[144,  47,  10],\n",
       "       [ 41, 242,  40],\n",
       "       [  6,  56, 138]])"
      ]
     },
     "execution_count": 21,
     "metadata": {},
     "output_type": "execute_result"
    }
   ],
   "source": [
    "cv10(model_cat)"
   ]
  },
  {
   "cell_type": "code",
   "execution_count": null,
   "id": "4503a974-6904-4ca1-a8b1-4fd2ca097306",
   "metadata": {},
   "outputs": [],
   "source": [
    "#xgboost\n",
    "xgboost_study = optuna.create_study(direction='maximize')\n",
    "xgboost_study.optimize(objective_xgboost, n_trials=30)\n",
    "xgboost_study.best_params  "
   ]
  },
  {
   "cell_type": "code",
   "execution_count": 22,
   "id": "03872e56-4aed-492f-91b4-f26044ffe0fb",
   "metadata": {},
   "outputs": [],
   "source": [
    "xgb_bp = {'n_estimators': 1000}"
   ]
  },
  {
   "cell_type": "code",
   "execution_count": 23,
   "id": "bee6974f-82de-4186-8aa5-712aa506f4b5",
   "metadata": {},
   "outputs": [
    {
     "data": {
      "application/vnd.jupyter.widget-view+json": {
       "model_id": "5fef25271f65436bb2cc7073f7a5775f",
       "version_major": 2,
       "version_minor": 0
      },
      "text/plain": [
       "0it [00:00, ?it/s]"
      ]
     },
     "metadata": {},
     "output_type": "display_data"
    },
    {
     "name": "stdout",
     "output_type": "stream",
     "text": [
      "Accuracy: 0.702 ± 0.033\n"
     ]
    },
    {
     "data": {
      "text/plain": [
       "array([[142,  49,  10],\n",
       "       [ 39, 234,  50],\n",
       "       [ 10,  58, 132]])"
      ]
     },
     "execution_count": 23,
     "metadata": {},
     "output_type": "execute_result"
    }
   ],
   "source": [
    "model_xgb = XGBClassifier(**xgb_bp, random_state=42)\n",
    "cv10(model_xgb)"
   ]
  },
  {
   "cell_type": "code",
   "execution_count": null,
   "id": "c7077609-42f2-40e4-b7f6-6afb9996f38b",
   "metadata": {},
   "outputs": [],
   "source": [
    "#lightgbm\n",
    "lightgbm_study = optuna.create_study(direction='maximize')\n",
    "lightgbm_study.optimize(objective_lgbm, n_trials=30)\n",
    "lightgbm_study.best_params"
   ]
  },
  {
   "cell_type": "code",
   "execution_count": 24,
   "id": "4097cc99-467b-47a3-8f62-6655145569d8",
   "metadata": {},
   "outputs": [],
   "source": [
    "lgbm_bp = {'learning_rate': 0.010108586093225807,\n",
    " 'num_leaves': 1018,\n",
    " 'colsample_bytree': 0.07145984259032351,\n",
    " 'min_data_in_leaf': 2,\n",
    " 'n_estimators': 100,\n",
    " 'verbosity': -1,\n",
    " 'bagging_freq': 1}"
   ]
  },
  {
   "cell_type": "code",
   "execution_count": 25,
   "id": "3e202743-147c-40c7-bc16-5ea7fb278946",
   "metadata": {},
   "outputs": [],
   "source": [
    "model_lgbm = LGBMClassifier(**lgbm_bp, random_state=42, silent=True)"
   ]
  },
  {
   "cell_type": "code",
   "execution_count": 26,
   "id": "ffc9329c-241a-4ce7-9c8b-ae54ef51775b",
   "metadata": {},
   "outputs": [
    {
     "data": {
      "application/vnd.jupyter.widget-view+json": {
       "model_id": "2d4a47caeed84112b60a9cb7d53a9443",
       "version_major": 2,
       "version_minor": 0
      },
      "text/plain": [
       "0it [00:00, ?it/s]"
      ]
     },
     "metadata": {},
     "output_type": "display_data"
    },
    {
     "name": "stdout",
     "output_type": "stream",
     "text": [
      "[LightGBM] [Warning] min_data_in_leaf is set=2, min_child_samples=20 will be ignored. Current value: min_data_in_leaf=2\n",
      "[LightGBM] [Warning] bagging_freq is set=1, subsample_freq=0 will be ignored. Current value: bagging_freq=1\n",
      "[LightGBM] [Warning] min_data_in_leaf is set=2, min_child_samples=20 will be ignored. Current value: min_data_in_leaf=2\n",
      "[LightGBM] [Warning] bagging_freq is set=1, subsample_freq=0 will be ignored. Current value: bagging_freq=1\n",
      "[LightGBM] [Warning] min_data_in_leaf is set=2, min_child_samples=20 will be ignored. Current value: min_data_in_leaf=2\n",
      "[LightGBM] [Warning] bagging_freq is set=1, subsample_freq=0 will be ignored. Current value: bagging_freq=1\n",
      "[LightGBM] [Warning] min_data_in_leaf is set=2, min_child_samples=20 will be ignored. Current value: min_data_in_leaf=2\n",
      "[LightGBM] [Warning] bagging_freq is set=1, subsample_freq=0 will be ignored. Current value: bagging_freq=1\n",
      "[LightGBM] [Warning] min_data_in_leaf is set=2, min_child_samples=20 will be ignored. Current value: min_data_in_leaf=2\n",
      "[LightGBM] [Warning] bagging_freq is set=1, subsample_freq=0 will be ignored. Current value: bagging_freq=1\n",
      "[LightGBM] [Warning] min_data_in_leaf is set=2, min_child_samples=20 will be ignored. Current value: min_data_in_leaf=2\n",
      "[LightGBM] [Warning] bagging_freq is set=1, subsample_freq=0 will be ignored. Current value: bagging_freq=1\n",
      "[LightGBM] [Warning] min_data_in_leaf is set=2, min_child_samples=20 will be ignored. Current value: min_data_in_leaf=2\n",
      "[LightGBM] [Warning] bagging_freq is set=1, subsample_freq=0 will be ignored. Current value: bagging_freq=1\n",
      "[LightGBM] [Warning] min_data_in_leaf is set=2, min_child_samples=20 will be ignored. Current value: min_data_in_leaf=2\n",
      "[LightGBM] [Warning] bagging_freq is set=1, subsample_freq=0 will be ignored. Current value: bagging_freq=1\n",
      "[LightGBM] [Warning] min_data_in_leaf is set=2, min_child_samples=20 will be ignored. Current value: min_data_in_leaf=2\n",
      "[LightGBM] [Warning] bagging_freq is set=1, subsample_freq=0 will be ignored. Current value: bagging_freq=1\n",
      "[LightGBM] [Warning] min_data_in_leaf is set=2, min_child_samples=20 will be ignored. Current value: min_data_in_leaf=2\n",
      "[LightGBM] [Warning] bagging_freq is set=1, subsample_freq=0 will be ignored. Current value: bagging_freq=1\n",
      "Accuracy: 0.714 ± 0.023\n"
     ]
    },
    {
     "data": {
      "text/plain": [
       "array([[122,  73,   6],\n",
       "       [ 17, 279,  27],\n",
       "       [  6,  78, 116]])"
      ]
     },
     "execution_count": 26,
     "metadata": {},
     "output_type": "execute_result"
    }
   ],
   "source": [
    "cv10(model_lgbm)"
   ]
  },
  {
   "cell_type": "code",
   "execution_count": null,
   "id": "65cb7c36-69f5-4a04-a734-5bdcc04ae280",
   "metadata": {},
   "outputs": [],
   "source": [
    "#svc\n",
    "svc_study = optuna.create_study(direction='maximize')\n",
    "svc_study.optimize(objective_svc, n_trials=30)\n",
    "svc_study.best_params "
   ]
  },
  {
   "cell_type": "code",
   "execution_count": 27,
   "id": "609a70c7-3334-47ad-adc0-25b7f2b451d7",
   "metadata": {},
   "outputs": [],
   "source": [
    "svc_bp = {'C': 4.831903143096115}"
   ]
  },
  {
   "cell_type": "code",
   "execution_count": 28,
   "id": "68481c34-ce6c-472f-b870-1fb9cdff164c",
   "metadata": {},
   "outputs": [],
   "source": [
    "model_svc = SVC(**svc_bp)"
   ]
  },
  {
   "cell_type": "code",
   "execution_count": 29,
   "id": "8678c3fb-bf0b-437e-a6a2-89fefacc8511",
   "metadata": {},
   "outputs": [
    {
     "data": {
      "application/vnd.jupyter.widget-view+json": {
       "model_id": "30205aeff6c44f66ab11d5e9cd7dbe9e",
       "version_major": 2,
       "version_minor": 0
      },
      "text/plain": [
       "0it [00:00, ?it/s]"
      ]
     },
     "metadata": {},
     "output_type": "display_data"
    },
    {
     "name": "stdout",
     "output_type": "stream",
     "text": [
      "Intel MKL WARNING: Support of Intel(R) Streaming SIMD Extensions 4.2 (Intel(R) SSE4.2) enabled only processors has been deprecated. Intel oneAPI Math Kernel Library 2025.0 will require Intel(R) Advanced Vector Extensions (Intel(R) AVX) instructions.\n",
      "Accuracy: 0.703 ± 0.032\n"
     ]
    },
    {
     "data": {
      "text/plain": [
       "array([[132,  64,   5],\n",
       "       [ 41, 242,  40],\n",
       "       [  7,  58, 135]])"
      ]
     },
     "execution_count": 29,
     "metadata": {},
     "output_type": "execute_result"
    }
   ],
   "source": [
    "cv10(model_svc)"
   ]
  },
  {
   "cell_type": "code",
   "execution_count": null,
   "id": "611ac4bf-56f3-4819-af7a-07d345df2279",
   "metadata": {},
   "outputs": [],
   "source": [
    "#knn\n",
    "knn_study = optuna.create_study(direction='maximize')\n",
    "knn_study.optimize(objective_knn, n_trials=30)\n",
    "knn_study.best_params "
   ]
  },
  {
   "cell_type": "code",
   "execution_count": 30,
   "id": "d4e53e00-5a21-45e2-b90d-f5b47891c89e",
   "metadata": {},
   "outputs": [],
   "source": [
    "knn_bp = {'n_neighbors': 1}"
   ]
  },
  {
   "cell_type": "code",
   "execution_count": 31,
   "id": "47fa1c39-08bb-46b6-9415-593dcae321f0",
   "metadata": {},
   "outputs": [],
   "source": [
    "model_knn = KNeighborsClassifier(**knn_bp)"
   ]
  },
  {
   "cell_type": "code",
   "execution_count": 32,
   "id": "81c245e1-01a3-496b-bb62-1b706ac1ed36",
   "metadata": {},
   "outputs": [
    {
     "data": {
      "application/vnd.jupyter.widget-view+json": {
       "model_id": "3bb9386320364247bd0179ab9962a5ea",
       "version_major": 2,
       "version_minor": 0
      },
      "text/plain": [
       "0it [00:00, ?it/s]"
      ]
     },
     "metadata": {},
     "output_type": "display_data"
    },
    {
     "name": "stdout",
     "output_type": "stream",
     "text": [
      "Accuracy: 0.681 ± 0.041\n"
     ]
    },
    {
     "data": {
      "text/plain": [
       "array([[135,  56,  10],\n",
       "       [ 57, 209,  57],\n",
       "       [  8,  43, 149]])"
      ]
     },
     "execution_count": 32,
     "metadata": {},
     "output_type": "execute_result"
    }
   ],
   "source": [
    "cv10(model_knn)"
   ]
  },
  {
   "cell_type": "code",
   "execution_count": null,
   "id": "23319b0f-5935-442d-9ae7-da265fad1d27",
   "metadata": {},
   "outputs": [],
   "source": []
  }
 ],
 "metadata": {
  "kernelspec": {
   "display_name": "Python 3 (ipykernel)",
   "language": "python",
   "name": "python3"
  },
  "language_info": {
   "codemirror_mode": {
    "name": "ipython",
    "version": 3
   },
   "file_extension": ".py",
   "mimetype": "text/x-python",
   "name": "python",
   "nbconvert_exporter": "python",
   "pygments_lexer": "ipython3",
   "version": "3.9.19"
  }
 },
 "nbformat": 4,
 "nbformat_minor": 5
}
