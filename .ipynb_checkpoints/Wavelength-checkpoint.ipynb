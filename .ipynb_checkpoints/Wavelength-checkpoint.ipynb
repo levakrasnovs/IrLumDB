{
 "cells": [
  {
   "cell_type": "code",
   "execution_count": 2,
   "id": "5c8bbccc-5f28-484d-8042-20e2b962f780",
   "metadata": {},
   "outputs": [],
   "source": [
    "import numpy as np \n",
    "import pandas as pd\n",
    "import scipy.stats\n",
    "from tqdm import tqdm_notebook\n",
    "\n",
    "from sklearn.model_selection import KFold, train_test_split\n",
    "from sklearn.metrics import mean_absolute_error, mean_squared_error, r2_score\n",
    "from sklearn.svm import SVR\n",
    "from sklearn.neighbors import KNeighborsRegressor\n",
    "from lightgbm import LGBMRegressor\n",
    "from catboost import CatBoostRegressor\n",
    "from xgboost import XGBRegressor\n",
    "\n",
    "import optuna\n",
    "from rdkit import Chem\n",
    "from molfeat.calc import FPCalculator\n",
    "\n",
    "def canonize_smiles(smiles):\n",
    "    return Chem.MolToSmiles(Chem.MolFromSmiles(smiles))\n",
    "    \n",
    "import warnings\n",
    "warnings.filterwarnings(\"ignore\")"
   ]
  },
  {
   "cell_type": "code",
   "execution_count": 3,
   "id": "f7d79cce-21b0-41eb-b5e7-67c865fb1c89",
   "metadata": {},
   "outputs": [],
   "source": [
    "df = pd.read_csv('IrLumDB.csv')\n",
    "test = pd.read_csv('Synthesized_complexes.csv')"
   ]
  },
  {
   "cell_type": "code",
   "execution_count": 4,
   "id": "59f8e599-56f6-4641-b804-1fad8d5e91b1",
   "metadata": {},
   "outputs": [],
   "source": [
    "df = df[~df['L1'].apply(lambda x: 'si' in x.lower())]\n",
    "df = df[~df['L3'].apply(lambda x: 'si' in x.lower())]\n",
    "df = df[~df['L1'].apply(lambda x: 'b' in x.lower())]\n",
    "df = df[~df['L3'].apply(lambda x: 'b' in x.lower())]\n",
    "df = df[df['L3'].apply(lambda x: len(x) > 5)]\n",
    "\n",
    "df['L1_mol'] = df['L1'].apply(Chem.MolFromSmiles)\n",
    "df['L2_mol'] = df['L2'].apply(Chem.MolFromSmiles)\n",
    "df['L3_mol'] = df['L3'].apply(Chem.MolFromSmiles)\n",
    "test['L1_mol'] = test['L1'].apply(Chem.MolFromSmiles)\n",
    "test['L2_mol'] = test['L2'].apply(Chem.MolFromSmiles)\n",
    "test['L3_mol'] = test['L3'].apply(Chem.MolFromSmiles)\n",
    "\n",
    "df_ch2cl2 = df[df['Solvent'] == 'CH2Cl2']\n",
    "df_ch2cl2.drop_duplicates(subset=['L1', 'L2', 'L3'], inplace=True)\n",
    "df_ch2cl2.reset_index(drop=True, inplace=True)"
   ]
  },
  {
   "cell_type": "code",
   "execution_count": 5,
   "id": "6e9393a5-d6dd-4de0-aa6b-181c63cd5f8e",
   "metadata": {},
   "outputs": [],
   "source": [
    "def get_finger(fingerprints):\n",
    "    \"\"\"\n",
    "    This function creates fingerprints from SMILES ligands. \n",
    "    The list of available fingerprints can be viewed: FPCalculator.available_fingerprints()\n",
    "    \"\"\"\n",
    "    for f in fingerprints:\n",
    "        calc = FPCalculator(f)\n",
    "        df_ch2cl2[f'L1_{f}'] = df_ch2cl2['L1_mol'].apply(calc)\n",
    "        df_ch2cl2[f'L2_{f}'] = df_ch2cl2['L2_mol'].apply(calc)\n",
    "        df_ch2cl2[f'L3_{f}'] = df_ch2cl2['L3_mol'].apply(calc)\n",
    "        df_ch2cl2[f'{f}'] = np.sum([df_ch2cl2[f'L1_{f}'], df_ch2cl2[f'L2_{f}'], df_ch2cl2[f'L3_{f}']], axis=0)\n",
    "        test[f'L1_{f}'] = test['L1_mol'].apply(calc)\n",
    "        test[f'L2_{f}'] = test['L2_mol'].apply(calc)\n",
    "        test[f'L3_{f}'] = test['L3_mol'].apply(calc)\n",
    "        test[f'{f}'] = np.sum([test[f'L1_{f}'], test[f'L2_{f}'], test[f'L3_{f}']], axis=0)\n",
    "\n",
    "    X, y = df_ch2cl2[fingerprints].to_numpy(), df_ch2cl2['Max_wavelength(nm)'].to_numpy()\n",
    "    \n",
    "    X = np.array([np.hstack(i) for i in X])\n",
    "    df_result = pd.DataFrame()\n",
    "    for d in X:\n",
    "        df_result = pd.concat([df_result, pd.DataFrame(d).T])\n",
    "    X = df_result.to_numpy()\n",
    "    print(X.shape)\n",
    "\n",
    "    X_test, y_test = test[fingerprints].to_numpy(), test['Max_wavelength(nm)'].to_numpy()\n",
    "    X_test = np.array([np.hstack(i) for i in X_test])\n",
    "    df_result = pd.DataFrame()\n",
    "    for d in X_test:\n",
    "        df_result = pd.concat([df_result, pd.DataFrame(d).T])\n",
    "    X_test = df_result.to_numpy()\n",
    "    print(X_test.shape)\n",
    "    \n",
    "    return X, y, X_test, y_test"
   ]
  },
  {
   "cell_type": "code",
   "execution_count": 6,
   "id": "fce487e9-e160-4a63-bef8-c0baebb66a8e",
   "metadata": {},
   "outputs": [
    {
     "name": "stderr",
     "output_type": "stream",
     "text": [
      "Failed to find the pandas get_adjustment() function to patch\n",
      "Failed to patch pandas - PandasTools will have limited functionality\n"
     ]
    },
    {
     "name": "stdout",
     "output_type": "stream",
     "text": [
      "(785, 2048)\n",
      "(33, 2048)\n"
     ]
    }
   ],
   "source": [
    "X, y, X_test, y_test = get_finger(['ecfp'])"
   ]
  },
  {
   "cell_type": "code",
   "execution_count": 7,
   "id": "09508f1e-29e6-4bb1-b504-19485490fd6b",
   "metadata": {},
   "outputs": [],
   "source": [
    "X_train, X_val, y_train, y_val = train_test_split(X, y, test_size=0.2, random_state=42, shuffle=True)"
   ]
  },
  {
   "cell_type": "code",
   "execution_count": 8,
   "id": "ac2c66da-b5b4-4f80-89dd-dbc1b46d72fe",
   "metadata": {},
   "outputs": [],
   "source": [
    "kf = KFold(n_splits=10, shuffle=True, random_state=42)"
   ]
  },
  {
   "cell_type": "markdown",
   "id": "3aef2f69-56cf-4508-902b-715db501486b",
   "metadata": {},
   "source": [
    "# Optuna"
   ]
  },
  {
   "cell_type": "code",
   "execution_count": 9,
   "id": "4058af17-6492-45c3-acd5-252852215742",
   "metadata": {},
   "outputs": [],
   "source": [
    "def objective_catboost(trial):\n",
    "    params = {\n",
    "        \"iterations\": 1000,\n",
    "        \"learning_rate\": trial.suggest_float(\"learning_rate\", 2*1e-3, 0.2, log=True),\n",
    "        \"depth\": trial.suggest_int(\"depth\", 1, 10),\n",
    "        \"subsample\": trial.suggest_float(\"subsample\", 0.05, 1.0),\n",
    "        \"colsample_bylevel\": trial.suggest_float(\"colsample_bylevel\", 0.05, 1.0),\n",
    "        \"min_data_in_leaf\": trial.suggest_int(\"min_data_in_leaf\", 1, 100),\n",
    "    }\n",
    "\n",
    "    model = CatBoostRegressor(**params, silent=True, random_state=42)\n",
    "    model.fit(X_train, y_train)\n",
    "    predictions = model.predict(X_val)\n",
    "    rmse = mean_squared_error(y_val, predictions, squared=False)\n",
    "    return rmse"
   ]
  },
  {
   "cell_type": "code",
   "execution_count": 10,
   "id": "31b47b26-dd80-419c-975f-48cf91720697",
   "metadata": {},
   "outputs": [],
   "source": [
    "def objective_lgbm(trial):\n",
    "    params = {\n",
    "        \"objective\": \"regression\",\n",
    "        \"metric\": \"rmse\",\n",
    "        \"n_estimators\": 1000,\n",
    "        \"verbosity\": -1,\n",
    "        \"bagging_freq\": 1,\n",
    "        \"learning_rate\": trial.suggest_float(\"learning_rate\", 2*1e-3, 0.2, log=True),\n",
    "        \"num_leaves\": trial.suggest_int(\"num_leaves\", 2, 2**10),\n",
    "        \"subsample\": trial.suggest_float(\"subsample\", 0.05, 1.0),\n",
    "        \"colsample_bytree\": trial.suggest_float(\"colsample_bytree\", 0.05, 1.0),\n",
    "        \"min_data_in_leaf\": trial.suggest_int(\"min_data_in_leaf\", 1, 100),\n",
    "    }\n",
    "    model = LGBMRegressor(**params, silent=True, random_state=42)\n",
    "    model.fit(X_train, y_train)\n",
    "    predictions = model.predict(X_val)\n",
    "    rmse = mean_squared_error(y_val, predictions, squared=False)\n",
    "    return rmse"
   ]
  },
  {
   "cell_type": "code",
   "execution_count": 11,
   "id": "b3c2505a-cc5f-4faf-8a62-7db120ab50b7",
   "metadata": {},
   "outputs": [],
   "source": [
    "def objective_xgboost(trial):\n",
    "    params = {\n",
    "        \"objective\": \"reg:squarederror\",\n",
    "        \"n_estimators\": 1000,\n",
    "        \"verbosity\": 0,\n",
    "        \"learning_rate\": trial.suggest_float(\"learning_rate\", 1e-3, 0.1, log=True),\n",
    "        \"max_depth\": trial.suggest_int(\"max_depth\", 1, 10),\n",
    "        \"subsample\": trial.suggest_float(\"subsample\", 0.05, 1.0),\n",
    "        \"colsample_bytree\": trial.suggest_float(\"colsample_bytree\", 0.05, 1.0),\n",
    "        \"min_child_weight\": trial.suggest_int(\"min_child_weight\", 1, 20),\n",
    "    }\n",
    "\n",
    "    model = XGBRegressor(**params)\n",
    "    model.fit(X_train, y_train, verbose=False)\n",
    "    predictions = model.predict(X_val)\n",
    "    rmse = mean_squared_error(y_val, predictions, squared=False)\n",
    "    return rmse"
   ]
  },
  {
   "cell_type": "code",
   "execution_count": 12,
   "id": "40c4cb2a-6d98-4d54-863c-a3a0ff5e794d",
   "metadata": {},
   "outputs": [],
   "source": [
    "def objective_svr(trial):\n",
    "    params = {\n",
    "        \"C\": trial.suggest_float('C', 1, 1000, log=True),\n",
    "        \"epsilon\": trial.suggest_float('epsilon', 1e-3, 1, log=True),\n",
    "    }\n",
    "\n",
    "    model = SVR(**params)\n",
    "    model.fit(X_train, y_train)\n",
    "    predictions = model.predict(X_val)\n",
    "    rmse = mean_squared_error(y_val, predictions, squared=False)\n",
    "    return rmse"
   ]
  },
  {
   "cell_type": "code",
   "execution_count": 13,
   "id": "26ced715-28cd-4419-bfb1-aa01166692b2",
   "metadata": {},
   "outputs": [],
   "source": [
    "def objective_knn(trial):\n",
    "    params = {\n",
    "        \"n_neighbors\": trial.suggest_int(\"n_neighbors\", 1, 100, log=True),\n",
    "    }\n",
    "\n",
    "    model = KNeighborsRegressor(**params, random_state=42)\n",
    "    model.fit(X_train, y_train)\n",
    "    predictions = model.predict(X_val)\n",
    "    rmse = mean_squared_error(y_val, predictions, squared=False)\n",
    "    return rmse"
   ]
  },
  {
   "cell_type": "markdown",
   "id": "750a88d0-17fc-41df-bbc6-6e67499d08bf",
   "metadata": {},
   "source": [
    "# Functions for training and validating models"
   ]
  },
  {
   "cell_type": "code",
   "execution_count": 14,
   "id": "b287bd7c-ba27-4320-970c-7cc8dc8de585",
   "metadata": {},
   "outputs": [],
   "source": [
    "def mean_confidence_interval(data, metric, confidence=0.95):\n",
    "    a = 1.0 * np.array(data)\n",
    "    n = len(a)\n",
    "    m, se = np.mean(a), scipy.stats.sem(a)\n",
    "    h = se * scipy.stats.t.ppf((1 + confidence) / 2., n-1)\n",
    "    m = round(m ,2)\n",
    "    h = round(h, 2)\n",
    "    print(f'{metric}: {m} ± {h}')"
   ]
  },
  {
   "cell_type": "code",
   "execution_count": 15,
   "id": "193eb459-1d7a-4202-970a-6f7e5f680e68",
   "metadata": {},
   "outputs": [],
   "source": [
    "def cv10(model):\n",
    "    mae_result = []\n",
    "    rmse_result = []\n",
    "    r2_result = []\n",
    "    for train, val in tqdm_notebook(kf.split(X, y)):\n",
    "        model.fit(X[train], y[train])\n",
    "        y_pred_val = model.predict(X[val])\n",
    "        mae_result.append(mean_absolute_error(y[val], y_pred_val))\n",
    "        rmse_result.append(mean_squared_error(y[val], y_pred_val, squared=False))\n",
    "        r2_result.append(r2_score(y[val], y_pred_val))\n",
    "    mean_confidence_interval(mae_result, 'MAE')\n",
    "    mean_confidence_interval(rmse_result, 'RMSE')\n",
    "    mean_confidence_interval(r2_result, 'R2')"
   ]
  },
  {
   "cell_type": "code",
   "execution_count": 16,
   "id": "20f9802b-7dcc-43c7-8557-163d2902aab0",
   "metadata": {},
   "outputs": [],
   "source": [
    "def predict_test(model):\n",
    "    model.fit(X, y)\n",
    "    y_pred_test = model.predict(X_test)\n",
    "    mae = round(mean_absolute_error(y_test, y_pred_test), 2)\n",
    "    rmse = round(mean_squared_error(y_test, y_pred_test, squared=False), 2)\n",
    "    r2 = round(r2_score(y_test, y_pred_test), 2)\n",
    "    print(f'MAE: {mae}')\n",
    "    print(f'RMSE: {rmse}')\n",
    "    print(f'R2: {r2}')"
   ]
  },
  {
   "cell_type": "markdown",
   "id": "d42ef5c6-91eb-47b6-80dd-f74d69babff9",
   "metadata": {},
   "source": [
    "# Find best params"
   ]
  },
  {
   "cell_type": "code",
   "execution_count": null,
   "id": "711ccc82-3e7b-465f-bf87-0b6c9b70ee00",
   "metadata": {},
   "outputs": [],
   "source": [
    "#сatboost\n",
    "сatboost_study = optuna.create_study(direction='minimize')\n",
    "сatboost_study.optimize(objective_catboost, n_trials=30)\n",
    "catboost_study.best_params  "
   ]
  },
  {
   "cell_type": "code",
   "execution_count": 17,
   "id": "693be759-60aa-4e4d-9c40-1f28057ec6f6",
   "metadata": {},
   "outputs": [],
   "source": [
    "cat_bp = {'learning_rate': 0.10283991617950267,\n",
    "          'depth': 8,\n",
    "          'subsample': 0.5843053868788202,\n",
    "          'colsample_bylevel': 0.2298254995755487,\n",
    "          'min_data_in_leaf': 30}"
   ]
  },
  {
   "cell_type": "code",
   "execution_count": 18,
   "id": "662d2c87-27e0-4d2d-8fe0-37bb6639ae24",
   "metadata": {},
   "outputs": [],
   "source": [
    "model_cat = CatBoostRegressor(**cat_bp, random_state=42, silent=True)"
   ]
  },
  {
   "cell_type": "code",
   "execution_count": 19,
   "id": "151e4400-3fad-4c30-8c13-517575bb9ef9",
   "metadata": {},
   "outputs": [
    {
     "data": {
      "application/vnd.jupyter.widget-view+json": {
       "model_id": "3ed0b86d97cc49b28895265b3616d45c",
       "version_major": 2,
       "version_minor": 0
      },
      "text/plain": [
       "0it [00:00, ?it/s]"
      ]
     },
     "metadata": {},
     "output_type": "display_data"
    },
    {
     "name": "stdout",
     "output_type": "stream",
     "text": [
      "MAE: 18.78 ± 1.47\n",
      "RMSE: 27.37 ± 2.41\n",
      "R2: 0.84 ± 0.05\n"
     ]
    }
   ],
   "source": [
    "cv10(model_cat)"
   ]
  },
  {
   "cell_type": "code",
   "execution_count": 20,
   "id": "41dc60b8-9b37-4600-ae7b-ff13e177414c",
   "metadata": {},
   "outputs": [
    {
     "name": "stdout",
     "output_type": "stream",
     "text": [
      "MAE: 16.85\n",
      "RMSE: 20.26\n",
      "R2: 0.75\n"
     ]
    }
   ],
   "source": [
    "predict_test(model_cat)"
   ]
  },
  {
   "cell_type": "code",
   "execution_count": null,
   "id": "f0440548-792a-4c3f-bf9a-dba7f6e42ef1",
   "metadata": {},
   "outputs": [],
   "source": [
    "#xgboost\n",
    "xgboost_study = optuna.create_study(direction='minimize')\n",
    "xgboost_study.optimize(objective_xgboost, n_trials=30)\n",
    "xgboost_study.best_params  "
   ]
  },
  {
   "cell_type": "code",
   "execution_count": 21,
   "id": "b9b1228d-7ee1-4af8-bc6e-c4ccf402b4fc",
   "metadata": {},
   "outputs": [],
   "source": [
    "xgb_bp = {'learning_rate': 0.06238679289783574,\n",
    "          'max_depth': 7,\n",
    "          'subsample': 0.9982371412074009,\n",
    "          'colsample_bytree': 0.1637075927345035,\n",
    "          'min_child_weight': 1,\n",
    "          'objective': 'reg:squarederror',\n",
    "          'n_estimators': 1000,\n",
    "          'verbosity': 0}"
   ]
  },
  {
   "cell_type": "code",
   "execution_count": 22,
   "id": "dfab3340-96bf-46d5-9318-45be01806042",
   "metadata": {},
   "outputs": [],
   "source": [
    "model_xgb = XGBRegressor(**xgb_bp, random_state=42, silent=True)"
   ]
  },
  {
   "cell_type": "code",
   "execution_count": 23,
   "id": "ac393f76-e0a4-4a87-b7b4-5812ffb42c38",
   "metadata": {},
   "outputs": [
    {
     "data": {
      "application/vnd.jupyter.widget-view+json": {
       "model_id": "67756afe1c3d4574a1a2f3afab51eaba",
       "version_major": 2,
       "version_minor": 0
      },
      "text/plain": [
       "0it [00:00, ?it/s]"
      ]
     },
     "metadata": {},
     "output_type": "display_data"
    },
    {
     "name": "stdout",
     "output_type": "stream",
     "text": [
      "MAE: 18.36 ± 1.38\n",
      "RMSE: 26.79 ± 1.76\n",
      "R2: 0.85 ± 0.04\n"
     ]
    }
   ],
   "source": [
    "cv10(model_xgb)"
   ]
  },
  {
   "cell_type": "code",
   "execution_count": 24,
   "id": "da6be441-9d29-4c08-a530-63d6339b9dee",
   "metadata": {},
   "outputs": [
    {
     "name": "stdout",
     "output_type": "stream",
     "text": [
      "MAE: 19.56\n",
      "RMSE: 22.54\n",
      "R2: 0.69\n"
     ]
    }
   ],
   "source": [
    "predict_test(model_xgb)"
   ]
  },
  {
   "cell_type": "code",
   "execution_count": null,
   "id": "d7daf4f5-3446-483d-b553-10183dea4fc2",
   "metadata": {},
   "outputs": [],
   "source": [
    "#lightgbm\n",
    "lightgbm_study = optuna.create_study(direction='minimize')\n",
    "lightgbm_study.optimize(objective_lgbm, n_trials=30)\n",
    "lightgbm_study.best_params "
   ]
  },
  {
   "cell_type": "code",
   "execution_count": 25,
   "id": "b75f88b8-0d63-427f-90fb-553441c96d8b",
   "metadata": {},
   "outputs": [],
   "source": [
    "lgbm_bp = {'learning_rate': 0.008945691798973802,\n",
    "           'num_leaves': 430,\n",
    "           'subsample': 0.421299382581721,\n",
    "           'colsample_bytree': 0.7782704746853497,\n",
    "           'min_data_in_leaf': 1,\n",
    "           'objective': 'regression',\n",
    "           'metric': 'rmse',\n",
    "           'n_estimators': 1000,\n",
    "           'verbosity': -1,\n",
    "           'bagging_freq': 1}"
   ]
  },
  {
   "cell_type": "code",
   "execution_count": 26,
   "id": "e4ff4074-8ff6-42a6-b933-bd6a44d43296",
   "metadata": {},
   "outputs": [
    {
     "data": {
      "application/vnd.jupyter.widget-view+json": {
       "model_id": "daa712bbb20a4a8faa4e91c38f2c2485",
       "version_major": 2,
       "version_minor": 0
      },
      "text/plain": [
       "0it [00:00, ?it/s]"
      ]
     },
     "metadata": {},
     "output_type": "display_data"
    },
    {
     "name": "stdout",
     "output_type": "stream",
     "text": [
      "[LightGBM] [Warning] min_data_in_leaf is set=1, min_child_samples=20 will be ignored. Current value: min_data_in_leaf=1\n",
      "[LightGBM] [Warning] bagging_freq is set=1, subsample_freq=0 will be ignored. Current value: bagging_freq=1\n",
      "[LightGBM] [Warning] min_data_in_leaf is set=1, min_child_samples=20 will be ignored. Current value: min_data_in_leaf=1\n",
      "[LightGBM] [Warning] bagging_freq is set=1, subsample_freq=0 will be ignored. Current value: bagging_freq=1\n",
      "[LightGBM] [Warning] min_data_in_leaf is set=1, min_child_samples=20 will be ignored. Current value: min_data_in_leaf=1\n",
      "[LightGBM] [Warning] bagging_freq is set=1, subsample_freq=0 will be ignored. Current value: bagging_freq=1\n",
      "[LightGBM] [Warning] min_data_in_leaf is set=1, min_child_samples=20 will be ignored. Current value: min_data_in_leaf=1\n",
      "[LightGBM] [Warning] bagging_freq is set=1, subsample_freq=0 will be ignored. Current value: bagging_freq=1\n",
      "[LightGBM] [Warning] min_data_in_leaf is set=1, min_child_samples=20 will be ignored. Current value: min_data_in_leaf=1\n",
      "[LightGBM] [Warning] bagging_freq is set=1, subsample_freq=0 will be ignored. Current value: bagging_freq=1\n",
      "[LightGBM] [Warning] min_data_in_leaf is set=1, min_child_samples=20 will be ignored. Current value: min_data_in_leaf=1\n",
      "[LightGBM] [Warning] bagging_freq is set=1, subsample_freq=0 will be ignored. Current value: bagging_freq=1\n",
      "[LightGBM] [Warning] min_data_in_leaf is set=1, min_child_samples=20 will be ignored. Current value: min_data_in_leaf=1\n",
      "[LightGBM] [Warning] bagging_freq is set=1, subsample_freq=0 will be ignored. Current value: bagging_freq=1\n",
      "[LightGBM] [Warning] min_data_in_leaf is set=1, min_child_samples=20 will be ignored. Current value: min_data_in_leaf=1\n",
      "[LightGBM] [Warning] bagging_freq is set=1, subsample_freq=0 will be ignored. Current value: bagging_freq=1\n",
      "[LightGBM] [Warning] min_data_in_leaf is set=1, min_child_samples=20 will be ignored. Current value: min_data_in_leaf=1\n",
      "[LightGBM] [Warning] bagging_freq is set=1, subsample_freq=0 will be ignored. Current value: bagging_freq=1\n",
      "[LightGBM] [Warning] min_data_in_leaf is set=1, min_child_samples=20 will be ignored. Current value: min_data_in_leaf=1\n",
      "[LightGBM] [Warning] bagging_freq is set=1, subsample_freq=0 will be ignored. Current value: bagging_freq=1\n",
      "MAE: 18.26 ± 1.95\n",
      "RMSE: 27.32 ± 3.34\n",
      "R2: 0.84 ± 0.06\n"
     ]
    }
   ],
   "source": [
    "model_lgbm = LGBMRegressor(**lgbm_bp, random_state=42)\n",
    "cv10(model_lgbm)"
   ]
  },
  {
   "cell_type": "code",
   "execution_count": 27,
   "id": "b161382c-3455-458d-a460-bd1f73d849c3",
   "metadata": {},
   "outputs": [
    {
     "name": "stdout",
     "output_type": "stream",
     "text": [
      "[LightGBM] [Warning] min_data_in_leaf is set=1, min_child_samples=20 will be ignored. Current value: min_data_in_leaf=1\n",
      "[LightGBM] [Warning] bagging_freq is set=1, subsample_freq=0 will be ignored. Current value: bagging_freq=1\n",
      "MAE: 18.53\n",
      "RMSE: 21.55\n",
      "R2: 0.72\n"
     ]
    }
   ],
   "source": [
    "predict_test(model_lgbm)"
   ]
  },
  {
   "cell_type": "code",
   "execution_count": null,
   "id": "aa57965f-0edc-4e1c-9246-47b45859d08d",
   "metadata": {},
   "outputs": [],
   "source": [
    "#svr\n",
    "svr_study = optuna.create_study(direction='minimize')\n",
    "svr_study.optimize(objective_svr, n_trials=30)\n",
    "svr_study.best_params "
   ]
  },
  {
   "cell_type": "code",
   "execution_count": 28,
   "id": "589c2c5d-179d-40ef-aec6-3dbc348f91b9",
   "metadata": {},
   "outputs": [],
   "source": [
    "svr_bp = {'C': 980.3782570100385, 'epsilon': 0.0010807171902425606}"
   ]
  },
  {
   "cell_type": "code",
   "execution_count": 29,
   "id": "3a0ddfde-b17b-4ed8-8f1d-9d233393140c",
   "metadata": {},
   "outputs": [],
   "source": [
    "model_svr = SVR(**svr_bp)"
   ]
  },
  {
   "cell_type": "code",
   "execution_count": 30,
   "id": "70712771-7d9e-4c60-8f7d-c014571c26f1",
   "metadata": {},
   "outputs": [
    {
     "data": {
      "application/vnd.jupyter.widget-view+json": {
       "model_id": "ff23f67ef70c4276a5a6223a72ba2804",
       "version_major": 2,
       "version_minor": 0
      },
      "text/plain": [
       "0it [00:00, ?it/s]"
      ]
     },
     "metadata": {},
     "output_type": "display_data"
    },
    {
     "name": "stdout",
     "output_type": "stream",
     "text": [
      "Intel MKL WARNING: Support of Intel(R) Streaming SIMD Extensions 4.2 (Intel(R) SSE4.2) enabled only processors has been deprecated. Intel oneAPI Math Kernel Library 2025.0 will require Intel(R) Advanced Vector Extensions (Intel(R) AVX) instructions.\n",
      "MAE: 21.45 ± 1.45\n",
      "RMSE: 31.54 ± 2.27\n",
      "R2: 0.8 ± 0.04\n"
     ]
    }
   ],
   "source": [
    "cv10(model_svr)"
   ]
  },
  {
   "cell_type": "code",
   "execution_count": 31,
   "id": "7489d030-c0e2-4143-81ae-72ead060ea15",
   "metadata": {},
   "outputs": [
    {
     "name": "stdout",
     "output_type": "stream",
     "text": [
      "MAE: 21.01\n",
      "RMSE: 25.81\n",
      "R2: 0.59\n"
     ]
    }
   ],
   "source": [
    "predict_test(model_svr)"
   ]
  },
  {
   "cell_type": "code",
   "execution_count": null,
   "id": "c23288a5-c11b-424d-80ff-e1fad24fe836",
   "metadata": {},
   "outputs": [],
   "source": [
    "#knn\n",
    "knn_study = optuna.create_study(direction='minimize')\n",
    "knn_study.optimize(objective_knn, n_trials=30)\n",
    "knn_study.best_params "
   ]
  },
  {
   "cell_type": "code",
   "execution_count": 32,
   "id": "8f2785c2-88aa-4a60-8bc4-1fdb23d5b916",
   "metadata": {},
   "outputs": [],
   "source": [
    "knn_bp = {'n_neighbors': 2}"
   ]
  },
  {
   "cell_type": "code",
   "execution_count": 33,
   "id": "f5ea179c-8fd5-459a-b641-feb7020470c5",
   "metadata": {},
   "outputs": [],
   "source": [
    "model_knn = KNeighborsRegressor(**knn_bp)"
   ]
  },
  {
   "cell_type": "code",
   "execution_count": 34,
   "id": "a59eab95-4ff6-473a-bce2-eade98a8f6d4",
   "metadata": {},
   "outputs": [
    {
     "data": {
      "application/vnd.jupyter.widget-view+json": {
       "model_id": "e6af9ed5b2b64e6b89ea467b7d3fd3ea",
       "version_major": 2,
       "version_minor": 0
      },
      "text/plain": [
       "0it [00:00, ?it/s]"
      ]
     },
     "metadata": {},
     "output_type": "display_data"
    },
    {
     "name": "stdout",
     "output_type": "stream",
     "text": [
      "MAE: 25.31 ± 2.05\n",
      "RMSE: 39.17 ± 4.83\n",
      "R2: 0.69 ± 0.06\n"
     ]
    }
   ],
   "source": [
    "cv10(model_knn)"
   ]
  },
  {
   "cell_type": "code",
   "execution_count": 35,
   "id": "8978676e-8172-4e19-b4e4-358337746bc5",
   "metadata": {},
   "outputs": [
    {
     "name": "stdout",
     "output_type": "stream",
     "text": [
      "MAE: 29.3\n",
      "RMSE: 36.64\n",
      "R2: 0.18\n"
     ]
    }
   ],
   "source": [
    "predict_test(model_knn)"
   ]
  },
  {
   "cell_type": "code",
   "execution_count": null,
   "id": "911ded78-84a0-4914-84ed-63889333267d",
   "metadata": {},
   "outputs": [],
   "source": []
  }
 ],
 "metadata": {
  "kernelspec": {
   "display_name": "Python 3 (ipykernel)",
   "language": "python",
   "name": "python3"
  },
  "language_info": {
   "codemirror_mode": {
    "name": "ipython",
    "version": 3
   },
   "file_extension": ".py",
   "mimetype": "text/x-python",
   "name": "python",
   "nbconvert_exporter": "python",
   "pygments_lexer": "ipython3",
   "version": "3.9.19"
  }
 },
 "nbformat": 4,
 "nbformat_minor": 5
}
